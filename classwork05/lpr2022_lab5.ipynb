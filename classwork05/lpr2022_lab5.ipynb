{
 "cells": [
  {
   "cell_type": "markdown",
   "id": "101e7402",
   "metadata": {},
   "source": [
    "# Продолжение numpy, matplotlib\n",
    "\n",
    "В прошлый раз мы научились работать с массивами в numpy. В этот раз мы узнаем о дополнительном функционале в библиотеке numpy и попрактикуемся чуть больше в визуализации."
   ]
  },
  {
   "cell_type": "markdown",
   "id": "3269bdbd",
   "metadata": {},
   "source": [
    "## Объекты\n",
    "В стандартный набор для работы с массивами входят следующие функции:\n",
    "- `np.arange` -- возвращает массив точек на равноудаленных с определенным шагом (по умолчанию шаг=1)\n",
    "- `numpy.linspace` -- возвращает массив определенно количества точек между заданными границами\n",
    "- `numpy.logspace` -- возвращает массив определенно количества точек между заданными границами в логарифмическом масштабе\n",
    "- `np.eye` -- создает двумерный массив в виде единичной матрицы\n",
    "- `np.ones` -- создает массив определенного размера заполненный 1\n",
    "- `np.zeros` -- создает массив определенного размера заполненный 0"
   ]
  },
  {
   "cell_type": "code",
   "execution_count": 1,
   "id": "162a747b",
   "metadata": {},
   "outputs": [
    {
     "name": "stdout",
     "output_type": "stream",
     "text": [
      "arange(3) [0 1 2]\n",
      "arange(-3, 3) [-3 -2 -1  0  1  2]\n",
      "arange(3, 10.1, 1) [ 3.  4.  5.  6.  7.  8.  9. 10.]\n",
      "linspace(3, 10, 8) [ 3.  4.  5.  6.  7.  8.  9. 10.]\n",
      "logspace(-4, 0, 5) [1.e-04 1.e-03 1.e-02 1.e-01 1.e+00]\n",
      "eye(5)\n",
      " [[1. 0. 0. 0. 0.]\n",
      " [0. 1. 0. 0. 0.]\n",
      " [0. 0. 1. 0. 0.]\n",
      " [0. 0. 0. 1. 0.]\n",
      " [0. 0. 0. 0. 1.]]\n",
      "ones(10) [1. 1. 1. 1. 1. 1. 1. 1. 1. 1.]\n",
      "zeros(10) [0. 0. 0. 0. 0. 0. 0. 0. 0. 0.]\n"
     ]
    }
   ],
   "source": [
    "import numpy as np\n",
    "\n",
    "print(\"arange(3)\", np.arange(3))\n",
    "print(\"arange(-3, 3)\", np.arange(-3, 3))\n",
    "print(\"arange(3, 10.1, 1)\", np.arange(3, 10.1, 1))\n",
    "print(\"linspace(3, 10, 8)\", np.linspace(3, 10, 8))\n",
    "print(\"logspace(-4, 0, 5)\", np.logspace(-4, 0, 5))\n",
    "print(\"eye(5)\\n\", np.eye(5))\n",
    "print(\"ones(10)\", np.ones(10))\n",
    "print(\"zeros(10)\", np.zeros(10))"
   ]
  },
  {
   "cell_type": "markdown",
   "id": "ab09e4a3",
   "metadata": {},
   "source": [
    "## Методы объектов\n",
    "\n",
    "Для каждого массива определены следующие методы (операции, которые можно совершать с массивом из **коробки**):\n",
    "- `sum` -- просуммировать элементы\n",
    "- `mean` -- усреднить элементы\n",
    "- `std` -- посчитать среднеквадратичное отклонение\n",
    "- `min` -- найти значение минимального элемента\n",
    "- `max` -- найти значение максимального элемента\n",
    "- `argmin` -- найти индекс минимального элемента\n",
    "- `argmax` -- найти значение максимального элемента\n",
    "- `tolist` -- превратить массив в список\n",
    "- `tobytes` -- превратить массив в байт-строку"
   ]
  },
  {
   "cell_type": "code",
   "execution_count": 2,
   "id": "4923fae3",
   "metadata": {},
   "outputs": [
    {
     "name": "stdout",
     "output_type": "stream",
     "text": [
      "[[ 0.  1.  2.  3.  4.  5.]\n",
      " [ 6.  7.  8.  9. 10. 11.]\n",
      " [12. 13. 14. 15. 16. 17.]\n",
      " [18. 19. 20. 21. 22. 23.]\n",
      " [24. 25. 26. 27. 28. 29.]\n",
      " [30. 31. 32. 33. 34. 35.]] \n",
      "\n",
      "[ 15.  51.  87. 123. 159. 195.] \n",
      "\n",
      "[15. 16. 17. 18. 19. 20.] \n",
      "\n",
      "10.388294694831615 \n",
      "\n",
      "0 \n",
      "\n",
      "[5 5 5 5 5 5] \n",
      "\n",
      "[[0.0, 1.0, 2.0, 3.0, 4.0, 5.0], [6.0, 7.0, 8.0, 9.0, 10.0, 11.0], [12.0, 13.0, 14.0, 15.0, 16.0, 17.0], [18.0, 19.0, 20.0, 21.0, 22.0, 23.0], [24.0, 25.0, 26.0, 27.0, 28.0, 29.0], [30.0, 31.0, 32.0, 33.0, 34.0, 35.0]] \n",
      "\n",
      "b'\\x00\\x00\\x00\\x00\\x00\\x00\\x00\\x00\\x00\\x00\\x00\\x00\\x00\\x00\\xf0?\\x00\\x00\\x00\\x00\\x00\\x00\\x00@\\x00\\x00\\x00\\x00\\x00\\x00\\x08@\\x00\\x00\\x00\\x00\\x00\\x00\\x10@\\x00\\x00\\x00\\x00\\x00\\x00\\x14@\\x00\\x00\\x00\\x00\\x00\\x00\\x18@\\x00\\x00\\x00\\x00\\x00\\x00\\x1c@\\x00\\x00\\x00\\x00\\x00\\x00 @\\x00\\x00\\x00\\x00\\x00\\x00\"@\\x00\\x00\\x00\\x00\\x00\\x00$@\\x00\\x00\\x00\\x00\\x00\\x00&@\\x00\\x00\\x00\\x00\\x00\\x00(@\\x00\\x00\\x00\\x00\\x00\\x00*@\\x00\\x00\\x00\\x00\\x00\\x00,@\\x00\\x00\\x00\\x00\\x00\\x00.@\\x00\\x00\\x00\\x00\\x00\\x000@\\x00\\x00\\x00\\x00\\x00\\x001@\\x00\\x00\\x00\\x00\\x00\\x002@\\x00\\x00\\x00\\x00\\x00\\x003@\\x00\\x00\\x00\\x00\\x00\\x004@\\x00\\x00\\x00\\x00\\x00\\x005@\\x00\\x00\\x00\\x00\\x00\\x006@\\x00\\x00\\x00\\x00\\x00\\x007@\\x00\\x00\\x00\\x00\\x00\\x008@\\x00\\x00\\x00\\x00\\x00\\x009@\\x00\\x00\\x00\\x00\\x00\\x00:@\\x00\\x00\\x00\\x00\\x00\\x00;@\\x00\\x00\\x00\\x00\\x00\\x00<@\\x00\\x00\\x00\\x00\\x00\\x00=@\\x00\\x00\\x00\\x00\\x00\\x00>@\\x00\\x00\\x00\\x00\\x00\\x00?@\\x00\\x00\\x00\\x00\\x00\\x00@@\\x00\\x00\\x00\\x00\\x00\\x80@@\\x00\\x00\\x00\\x00\\x00\\x00A@\\x00\\x00\\x00\\x00\\x00\\x80A@' \n",
      "\n"
     ]
    }
   ],
   "source": [
    "import numpy as np\n",
    "\n",
    "array = np.linspace(0, 35, 36).reshape(6, 6)\n",
    "\n",
    "print(array, \"\\n\")\n",
    "print(array.sum(axis=1), \"\\n\")\n",
    "print(array.mean(axis=0), \"\\n\")\n",
    "print(array.std(axis=(0, 1)), \"\\n\")\n",
    "print(array.argmin(), \"\\n\")\n",
    "print(array.argmax(axis=1), \"\\n\")\n",
    "print(array.tolist(), \"\\n\")\n",
    "print(array.tobytes(), \"\\n\")"
   ]
  },
  {
   "cell_type": "markdown",
   "id": "5615fcce",
   "metadata": {},
   "source": [
    "## Случайности\n",
    "\n",
    "В numpy реализован также пакет для работы со случайными величинами.\n",
    "\n",
    "В реальности, абсолютную случайность достичь невозможно. Никакой алгоритм не может повторить природную случайность. Поэтому при работе с алгоритмами, которые основаны на случайном выборе, говорят о псевдослучайности. Псевдослучайность -- математический алгоритм получения псевдослучайных величин.\n",
    "\n",
    "Псевдослучайны алгортмы могут давать длинную последовательность независимых событий. Повторяются они не очень быстро (можете попробовать проверить).\n",
    "\n",
    "Для псевдопоследовательности вводится понятие `seed`. Это параметр, который формально определяет начало нашей псевдопоследовательности. `seed` фиксируется для воспроизведения псевдо-эксперимента.\n",
    "\n",
    "Модуль, который отвечает за случайные величины находится по пути\n",
    "```python\n",
    "import numpy as np\n",
    "np.random\n",
    "```\n",
    "Рассмотрим основные функции:\n",
    "- `normal` -- нормальное распределение\n",
    "- `poisson` -- распределение Пуассона\n",
    "- `randint` -- равномерное распределение целых чисел\n",
    "- `rand` -- равномерное распределение на отрезке [0, 1]\n",
    "- `seed` -- устанавливает `seed` псевдослучайной последовательности"
   ]
  },
  {
   "cell_type": "code",
   "execution_count": 3,
   "id": "43e88286",
   "metadata": {},
   "outputs": [
    {
     "name": "stdout",
     "output_type": "stream",
     "text": [
      "[ 59.6714153   -3.82643012  74.76885381 162.30298564 -13.41533747\n",
      " -13.41369569 167.92128155  86.74347292 -36.94743859  64.25600436] \n",
      "\n",
      "[ 7  8  9 11  8 10  7 11 11  8 12  6  7  8 10] \n",
      "\n",
      "[17 11  1  9  3 13 15 14  7 13  7 15 12 17 14 12  8 14 12  0  6  8  0] \n",
      "\n",
      "[0.19871568 0.00552212 0.81546143 0.70685734 0.72900717 0.77127035\n",
      " 0.07404465 0.35846573 0.11586906 0.86310343 0.62329813 0.33089802] \n",
      "\n"
     ]
    }
   ],
   "source": [
    "import numpy as np\n",
    "\n",
    "np.random.seed(42)\n",
    "print(np.random.normal(10, 100, size=10), \"\\n\")\n",
    "print(np.random.poisson(10, size=15), \"\\n\")\n",
    "print(np.random.randint(20, size=23), \"\\n\")\n",
    "print(np.random.rand(12), \"\\n\")"
   ]
  },
  {
   "cell_type": "markdown",
   "id": "9b50837f",
   "metadata": {},
   "source": [
    "### numpy Задание\n",
    "\n",
    "1. Выставьте `seed` случайной последовательности в 1\n",
    "2. Сгенерируйте массив из 120 случайных равномернораспределенных чисел с отрезка [0, 1]\n",
    "3. Посчитайте среднее, среднеквадратичное отклонение и сумму для элементов предыдущего массива\n",
    "4. Превратите одномерный массив в двумерный размерности (12, 10)\n",
    "5. Посчитайте среднее, среднеквадратичное отклонение и сумму для элементов предыдущего массива вдоль направлений 0, 1 (для каждой величины должно быть по два вычисления)\n",
    "6. Найдите минимальные и максимальные значения в каждом столбце двумерного массива\n",
    "8. Найдите индексы минимальных и максимальных элементов в каждой строке двумерного массива"
   ]
  },
  {
   "cell_type": "code",
   "execution_count": 2,
   "id": "6b036075",
   "metadata": {},
   "outputs": [],
   "source": [
    "#1\n",
    "np.random.seed(1)"
   ]
  },
  {
   "cell_type": "code",
   "execution_count": 6,
   "id": "357818da",
   "metadata": {},
   "outputs": [
    {
     "data": {
      "text/plain": [
       "array([0.01988013, 0.02621099, 0.02830649, 0.24621107, 0.86002795,\n",
       "       0.53883106, 0.55282198, 0.84203089, 0.12417332, 0.27918368,\n",
       "       0.58575927, 0.96959575, 0.56103022, 0.01864729, 0.80063267,\n",
       "       0.23297427, 0.8071052 , 0.38786064, 0.86354185, 0.74712164,\n",
       "       0.55624023, 0.13645523, 0.05991769, 0.12134346, 0.04455188,\n",
       "       0.10749413, 0.22570934, 0.71298898, 0.55971698, 0.01255598,\n",
       "       0.07197428, 0.96727633, 0.56810046, 0.20329323, 0.25232574,\n",
       "       0.74382585, 0.19542948, 0.58135893, 0.97001999, 0.8468288 ,\n",
       "       0.23984776, 0.49376971, 0.61995572, 0.8289809 , 0.15679139,\n",
       "       0.0185762 , 0.07002214, 0.48634511, 0.60632946, 0.56885144,\n",
       "       0.31736241, 0.98861615, 0.57974522, 0.38014117, 0.55094822,\n",
       "       0.74533443, 0.66923289, 0.26491956, 0.06633483, 0.3700842 ,\n",
       "       0.62971751, 0.21017401, 0.75275555, 0.06653648, 0.2603151 ,\n",
       "       0.80475456, 0.19343428, 0.63946088, 0.52467031, 0.92480797,\n",
       "       0.26329677, 0.06596109, 0.73506596, 0.77217803, 0.90781585,\n",
       "       0.93197207, 0.01395157, 0.23436209, 0.61677836, 0.94901632,\n",
       "       0.95017612, 0.55665319, 0.91560635, 0.64156621, 0.39000771,\n",
       "       0.48599067, 0.60431048, 0.54954792, 0.92618143, 0.91873344,\n",
       "       0.39487561, 0.96326253, 0.17395567, 0.12632952, 0.13507916,\n",
       "       0.50566217, 0.02152481, 0.94797021, 0.82711547, 0.01501898,\n",
       "       0.17619626, 0.33206357, 0.13099684, 0.80949069, 0.34473665,\n",
       "       0.94010748, 0.58201418, 0.87883198, 0.84473445, 0.90539232,\n",
       "       0.45988027, 0.54634682, 0.79860359, 0.28571885, 0.49025352,\n",
       "       0.59911031, 0.01553328, 0.59348141, 0.43367635, 0.80736053])"
      ]
     },
     "execution_count": 6,
     "metadata": {},
     "output_type": "execute_result"
    }
   ],
   "source": [
    "#2\n",
    "arr = np.random.rand(120)"
   ]
  },
  {
   "cell_type": "code",
   "execution_count": 7,
   "id": "d25695cd",
   "metadata": {},
   "outputs": [
    {
     "name": "stdout",
     "output_type": "stream",
     "text": [
      "0.4914388670445716 0.30885741416112567 58.972664045348594\n"
     ]
    }
   ],
   "source": [
    "#3\n",
    "arr_mean = arr.mean()\n",
    "arr_std = arr.std()\n",
    "arr_sum = arr.sum()\n",
    "print(arr_mean, arr_std, arr_sum)"
   ]
  },
  {
   "cell_type": "code",
   "execution_count": 8,
   "id": "c3146dbc",
   "metadata": {},
   "outputs": [
    {
     "data": {
      "text/plain": [
       "array([[0.01988013, 0.02621099, 0.02830649, 0.24621107, 0.86002795,\n",
       "        0.53883106, 0.55282198, 0.84203089, 0.12417332, 0.27918368],\n",
       "       [0.58575927, 0.96959575, 0.56103022, 0.01864729, 0.80063267,\n",
       "        0.23297427, 0.8071052 , 0.38786064, 0.86354185, 0.74712164],\n",
       "       [0.55624023, 0.13645523, 0.05991769, 0.12134346, 0.04455188,\n",
       "        0.10749413, 0.22570934, 0.71298898, 0.55971698, 0.01255598],\n",
       "       [0.07197428, 0.96727633, 0.56810046, 0.20329323, 0.25232574,\n",
       "        0.74382585, 0.19542948, 0.58135893, 0.97001999, 0.8468288 ],\n",
       "       [0.23984776, 0.49376971, 0.61995572, 0.8289809 , 0.15679139,\n",
       "        0.0185762 , 0.07002214, 0.48634511, 0.60632946, 0.56885144],\n",
       "       [0.31736241, 0.98861615, 0.57974522, 0.38014117, 0.55094822,\n",
       "        0.74533443, 0.66923289, 0.26491956, 0.06633483, 0.3700842 ],\n",
       "       [0.62971751, 0.21017401, 0.75275555, 0.06653648, 0.2603151 ,\n",
       "        0.80475456, 0.19343428, 0.63946088, 0.52467031, 0.92480797],\n",
       "       [0.26329677, 0.06596109, 0.73506596, 0.77217803, 0.90781585,\n",
       "        0.93197207, 0.01395157, 0.23436209, 0.61677836, 0.94901632],\n",
       "       [0.95017612, 0.55665319, 0.91560635, 0.64156621, 0.39000771,\n",
       "        0.48599067, 0.60431048, 0.54954792, 0.92618143, 0.91873344],\n",
       "       [0.39487561, 0.96326253, 0.17395567, 0.12632952, 0.13507916,\n",
       "        0.50566217, 0.02152481, 0.94797021, 0.82711547, 0.01501898],\n",
       "       [0.17619626, 0.33206357, 0.13099684, 0.80949069, 0.34473665,\n",
       "        0.94010748, 0.58201418, 0.87883198, 0.84473445, 0.90539232],\n",
       "       [0.45988027, 0.54634682, 0.79860359, 0.28571885, 0.49025352,\n",
       "        0.59911031, 0.01553328, 0.59348141, 0.43367635, 0.80736053]])"
      ]
     },
     "execution_count": 8,
     "metadata": {},
     "output_type": "execute_result"
    }
   ],
   "source": [
    "#4\n",
    "arr = arr.reshape(12, 10)"
   ]
  },
  {
   "cell_type": "code",
   "execution_count": 11,
   "id": "66029dc0",
   "metadata": {},
   "outputs": [
    {
     "name": "stdout",
     "output_type": "stream",
     "text": [
      "[0.38876722 0.52136545 0.49366998 0.37503641 0.43279049 0.55455277\n",
      " 0.32925747 0.59326322 0.61360607 0.61207961]\n",
      "[0.35176776 0.59742688 0.25369739 0.54004331 0.40894698 0.49327191\n",
      " 0.50066267 0.54903981 0.69387735 0.41107941 0.59445644 0.50299649]\n",
      "[0.25328258 0.35932532 0.29837054 0.29241405 0.28109725 0.2923738\n",
      " 0.27992053 0.2194718  0.28409363 0.34034695]\n",
      "[0.31033458 0.28812902 0.24269168 0.32242459 0.25653542 0.25377271\n",
      " 0.28238694 0.34995415 0.20133356 0.36021596 0.3044676  0.2215812 ]\n",
      "[4.66520662 6.25638537 5.92403977 4.5004369  5.19348586 6.65463321\n",
      " 3.95108963 7.11915861 7.3632728  7.34495529]\n",
      "[3.51767755 5.97426881 2.53697389 5.4004331  4.08946984 4.93271909\n",
      " 5.00662666 5.49039811 6.93877351 4.11079412 5.94456443 5.02996492]\n"
     ]
    }
   ],
   "source": [
    "#5. Посчитайте среднее, среднеквадратичное отклонение и сумму для элементов предыдущего массива \n",
    "# вдоль направлений 0, 1 (для каждой величины должно быть по два вычисления)\n",
    "arr_mean_1 = arr.mean(axis=0)\n",
    "arr_mean_2 = arr.mean(axis=1)\n",
    "arr_std_1 = arr.std(axis=0)\n",
    "arr_std_2 = arr.std(axis=1)\n",
    "arr_sum_1 = arr.sum(axis=0)\n",
    "arr_sum_2 = arr.sum(axis=1)\n",
    "print(arr_mean_1, arr_mean_2, arr_std_1, arr_std_2, arr_sum_1, arr_sum_2, sep = '\\n')"
   ]
  },
  {
   "cell_type": "code",
   "execution_count": 13,
   "id": "3a80e0c1",
   "metadata": {},
   "outputs": [
    {
     "name": "stdout",
     "output_type": "stream",
     "text": [
      "[0.01988013 0.01864729 0.01255598 0.07197428 0.0185762  0.06633483\n",
      " 0.06653648 0.01395157 0.39000771 0.01501898 0.13099684 0.01553328]\n",
      "[0.86002795 0.96959575 0.71298898 0.97001999 0.8289809  0.98861615\n",
      " 0.92480797 0.94901632 0.95017612 0.96326253 0.94010748 0.80736053]\n"
     ]
    }
   ],
   "source": [
    "#6. Найдите минимальные и максимальные значения в каждом столбце двумерного массива\n",
    "arr_min = arr.min(axis=1)\n",
    "arr_max = arr.max(axis=1)\n",
    "print(arr_min, arr_max, sep = '\\n')"
   ]
  },
  {
   "cell_type": "code",
   "execution_count": 14,
   "id": "77b711b8",
   "metadata": {},
   "outputs": [
    {
     "name": "stdout",
     "output_type": "stream",
     "text": [
      "[0.01988013 0.02621099 0.02830649 0.01864729 0.04455188 0.0185762\n",
      " 0.01395157 0.23436209 0.06633483 0.01255598]\n",
      "[0.95017612 0.98861615 0.91560635 0.8289809  0.90781585 0.94010748\n",
      " 0.8071052  0.94797021 0.97001999 0.94901632]\n"
     ]
    }
   ],
   "source": [
    "#7. Найдите индексы минимальных и максимальных элементов в каждой строке двумерного массива\n",
    "arr_argmin = arr.min(axis=0)\n",
    "arr_argmax = arr.max(axis=0)\n",
    "print(arr_argmin, arr_argmax, sep = '\\n')"
   ]
  },
  {
   "cell_type": "markdown",
   "id": "7be1bb74",
   "metadata": {},
   "source": [
    "## Еще больше рисования\n",
    "\n",
    "В прошлый раз был разобран метод рисовки ломаной кривой и точек с *усами*. В этот раз предстоит узнать о гистограммах и просто точечных изображениях.\n",
    "\n",
    "Гистограммы применимы в случае экспериентов с большим количеством повторений. Например, количество частиц на счетчике Гейгера за определенный промежуток времени.\n",
    "\n",
    "Посмотрим на следующий пример, который генирирует по распределению Пуассона 10000 событий, а затем отображает их."
   ]
  },
  {
   "cell_type": "code",
   "execution_count": 15,
   "id": "5097945e",
   "metadata": {},
   "outputs": [],
   "source": [
    "np.random.poisson??"
   ]
  },
  {
   "cell_type": "code",
   "execution_count": 16,
   "id": "b9fba0cd",
   "metadata": {},
   "outputs": [
    {
     "data": {
      "image/png": "[encoded data removed]",
      "text/plain": [
       "<Figure size 1080x331.2 with 3 Axes>"
      ]
     },
     "metadata": {
      "needs_background": "light"
     },
     "output_type": "display_data"
    }
   ],
   "source": [
    "import numpy as np\n",
    "from matplotlib import pyplot as plt\n",
    "\n",
    "np.random.seed(42)\n",
    "data = np.random.poisson(5, size=(10000,))\n",
    "\n",
    "fig, axs = plt.subplots(1, 3, figsize=(15, 4.6))\n",
    "\n",
    "axs[0].hist(data, label=\"coarse hist\")\n",
    "axs[1].hist(data, \"auto\", label=\"fine hist\")\n",
    "axs[2].hist(data, np.array([0, 4, 5, 6, 8.5, 9, 9.5, 10, 10.5, 15]), label=\"sad hist\")\n",
    "\n",
    "titles = [\"Strange data\", \"Interesting data\", \"Weird master\"]\n",
    "for ax, title in zip(axs, titles):\n",
    "    ax.set_title(title)\n",
    "    ax.set_ylabel(\"Events\")\n",
    "    ax.set_xlabel(\"value\")\n",
    "    ax.legend()\n",
    "\n",
    "plt.tight_layout()"
   ]
  },
  {
   "cell_type": "markdown",
   "id": "91488dd7",
   "metadata": {},
   "source": [
    "`pyplot.subplots` -- создает фигуру с несколькими окнами для отрисовки данных\n",
    "\n",
    "Как видно, одни те же данные могут быть совсем по разному отображены, если использовать разное разбиение (или же разный биннинг) для оси икс. Разбиение может быть задано вариативно (третий график).\n",
    "\n",
    "Отоброзим наши данные на плоскости. Первую половину точек возьмем в качестве первой координаты, вторую половину -- в качестве второй координаты"
   ]
  },
  {
   "cell_type": "code",
   "execution_count": 17,
   "id": "d0d2ae17",
   "metadata": {},
   "outputs": [],
   "source": [
    "plt.scatter??"
   ]
  },
  {
   "cell_type": "code",
   "execution_count": 19,
   "id": "20a702b6",
   "metadata": {},
   "outputs": [
    {
     "data": {
      "image/png": "[encoded data removed]",
      "text/plain": [
       "<Figure size 432x288 with 1 Axes>"
      ]
     },
     "metadata": {
      "needs_background": "light"
     },
     "output_type": "display_data"
    }
   ],
   "source": [
    "import numpy as np\n",
    "from matplotlib import pyplot as plt\n",
    "\n",
    "np.random.seed(42)\n",
    "data = np.random.poisson(5, size=(10000,))\n",
    "x = data[:5000]\n",
    "y = data[5000:]\n",
    "\n",
    "plt.scatter(x, y, s=10)\n",
    "\n",
    "plt.tight_layout()"
   ]
  },
  {
   "cell_type": "markdown",
   "id": "a3f0af29",
   "metadata": {},
   "source": [
    "В плоском виде это не информативно. Нельзя понять сколько точек попало в одну ячейку. Воспользуемся методом из numpy для разделения на разные корзины (бины)"
   ]
  },
  {
   "cell_type": "code",
   "execution_count": 21,
   "id": "aa7c5ac4",
   "metadata": {},
   "outputs": [
    {
     "data": {
      "text/plain": [
       "<matplotlib.colorbar.Colorbar at 0x230381deca0>"
      ]
     },
     "execution_count": 21,
     "metadata": {},
     "output_type": "execute_result"
    },
    {
     "data": {
      "image/png": "[encoded data removed]",
      "text/plain": [
       "<Figure size 288x288 with 2 Axes>"
      ]
     },
     "metadata": {
      "needs_background": "light"
     },
     "output_type": "display_data"
    }
   ],
   "source": [
    "xedges = np.linspace(-0.5, 18.5, 19)\n",
    "yedges = np.linspace(-0.5, 18.5, 19)\n",
    "distribution, xedges, yedges = np.histogram2d(x, y, bins=(10, 10))\n",
    "\n",
    "cs = plt.matshow(distribution)\n",
    "plt.colorbar(cs)"
   ]
  },
  {
   "cell_type": "code",
   "execution_count": 22,
   "id": "7bd0e0be",
   "metadata": {},
   "outputs": [
    {
     "data": {
      "text/plain": [
       "(array([ 0. ,  1.5,  3. ,  4.5,  6. ,  7.5,  9. , 10.5, 12. , 13.5, 15. ]),\n",
       " array([ 0. ,  1.7,  3.4,  5.1,  6.8,  8.5, 10.2, 11.9, 13.6, 15.3, 17. ]))"
      ]
     },
     "execution_count": 22,
     "metadata": {},
     "output_type": "execute_result"
    }
   ],
   "source": [
    "xedges, yedges"
   ]
  },
  {
   "cell_type": "markdown",
   "id": "efeb158c",
   "metadata": {},
   "source": [
    "## Data Analysis again\n",
    "\n",
    "\n",
    "Функция `fake_data_generator` выдает данные какого-то эксперимента. Но это не беда, ведь мы всегда можем обработать данные!\n",
    "\n",
    "Узнайте свой порядковый номер в группе и с помощью функции `get_numbers` получите свои входные значения для функции `fake_data_generator`.\n",
    "\n",
    "Полученные  экспериентальные данные используйте для нанесения на график. Затем попрбуйте *прикинуть* параметры прямой, которая могла бы проходить через экспериентальные точки.\n",
    "\n",
    "Пример генерации данных:\n",
    "```python\n",
    "student = 0  # Teacher's number\n",
    "x, y = fake_data_generator(*get_numbers(student))\n",
    "```\n",
    "\n",
    "В этот раз мы попробуем обработать данные с помощью numpy. Требуется воспользоваться функцией `numpy.polynomial`. На вход она принимает три аргумента: x/y координаты точек для подгонки и `deg=1` количество степеней свободы кривой. При значении `deg=1` кривая будет прямой.\n",
    "\n",
    "Попробуйте сгенерировать данные в соотвествии с порядковым номером в списке группы. После подгоните данные с использованием функции `numpy.polynomial`. Проверьте дополнительно методом МНК какие коэффициенты должны поучится для наклона и смещения прямой"
   ]
  },
  {
   "cell_type": "code",
   "execution_count": 24,
   "id": "6758be04",
   "metadata": {},
   "outputs": [],
   "source": [
    "import numpy as np\n",
    "import matplotlib\n",
    "from matplotlib import pyplot as plt\n",
    "\n",
    "matplotlib.rcParams.update(matplotlib.rcParamsDefault)\n",
    "\n",
    "\n",
    "def get_numbers(student):\n",
    "    return student, (student + 4) % 5 + 3, student % 2 * 10 + 12, (student % 5 * 3 + 7) * 3 \n",
    "\n",
    "def fake_data_generator(seed, vmin=0, vmax=10, size=100):\n",
    "    import numpy as np\n",
    "    np.random.seed(seed)\n",
    "    data = np.random.randint(vmin, vmax, size=20)\n",
    "    mean = data.mean()\n",
    "    std = data.std()\n",
    "    noise = np.random.normal(loc=mean, scale=std**.5, size=size)\n",
    "    fake_x = np.array([-5 + i * 20 / size for i in range(size)])\n",
    "    \n",
    "    linear = lambda x, k=(.5 - np.random.rand()) * 15, b=np.random.rand()*10: k * x + b\n",
    "    linear_data = linear(fake_x)\n",
    "    fake_y = linear_data + noise\n",
    "    return fake_x, fake_y"
   ]
  },
  {
   "cell_type": "code",
   "execution_count": 52,
   "id": "a51a1a6c",
   "metadata": {},
   "outputs": [
    {
     "data": {
      "image/png": "[encoded data removed]",
      "text/plain": [
       "<Figure size 640x480 with 1 Axes>"
      ]
     },
     "metadata": {},
     "output_type": "display_data"
    }
   ],
   "source": [
    "x, y = fake_data_generator(get_numbers(1))\n",
    "# x, y\n",
    "\n",
    "fit = np.polyfit(x, y, deg = 1)\n",
    "plt.scatter(x, y)\n",
    "\n",
    "k, b = 1, 1\n",
    "x_mean = x.sum() / len(x)\n",
    "y_mean = y.sum() / len(y)\n",
    "a2 = np.dot(x.T, x) / len(x)\n",
    "a11 = np.dot(x.T, y) / len(y)\n",
    "\n",
    "k_mnk = (a11 - x_mean * y_mean) / (a2 - x_mean ** 2)\n",
    "b_mnk = y_mean - k_mnk * x_mean\n",
    "y_mnk = np.array([k_mnk * z + b_mnk for z in range(len(x))])\n",
    "\n",
    "plt.plot(y_mnk)\n",
    "plt.plot(fit)\n",
    "\n",
    "plt.show()"
   ]
  },
  {
   "cell_type": "code",
   "execution_count": 65,
   "id": "b2e57bee",
   "metadata": {},
   "outputs": [
    {
     "name": "stdout",
     "output_type": "stream",
     "text": [
      "[ -31.25683501 -126.2109208    54.47480113  -49.72336316 -110.48001698\n",
      " -265.68827358   99.37660942 -105.85041132  -85.0671723    24.97511567]\n"
     ]
    },
    {
     "data": {
      "text/plain": [
       "<matplotlib.colorbar.Colorbar at 0x2303d945400>"
      ]
     },
     "execution_count": 65,
     "metadata": {},
     "output_type": "execute_result"
    },
    {
     "data": {
      "image/png": "[encoded data removed]",
      "text/plain": [
       "<Figure size 480x480 with 2 Axes>"
      ]
     },
     "metadata": {},
     "output_type": "display_data"
    }
   ],
   "source": [
    "n = 10\n",
    "gauss = np.random.normal(0, 100, size=n)\n",
    "print(gauss)\n",
    "# distribution = np.histogram2d(n, gauss)\n",
    "\n",
    "cs = plt.matshow(distribution)\n",
    "plt.colorbar(cs)"
   ]
  },
  {
   "cell_type": "code",
   "execution_count": 59,
   "id": "c077b40b",
   "metadata": {},
   "outputs": [],
   "source": [
    "np.histogram2d??"
   ]
  }
 ],
 "metadata": {
  "kernelspec": {
   "display_name": "Python 3 (ipykernel)",
   "language": "python",
   "name": "python3"
  },
  "language_info": {
   "codemirror_mode": {
    "name": "ipython",
    "version": 3
   },
   "file_extension": ".py",
   "mimetype": "text/x-python",
   "name": "python",
   "nbconvert_exporter": "python",
   "pygments_lexer": "ipython3",
   "version": "3.9.12"
  }
 },
 "nbformat": 4,
 "nbformat_minor": 5
}
